{
 "cells": [
  {
   "cell_type": "code",
   "execution_count": null,
   "metadata": {},
   "outputs": [],
   "source": [
    "%cd /content\n",
    "!wget -qO - http://packages.lunarg.com/lunarg-signing-key-pub.asc | sudo apt-key add -\n",
    "!wget -qO /etc/apt/sources.list.d/lunarg-vulkan-focal.list https://packages.lunarg.com/vulkan/lunarg-vulkan-jammy.list\n",
    "!apt update\n",
    "!apt install aria2 build-essential git cmake libprotobuf-dev protobuf-compiler vulkan-sdk libvulkan-dev vulkan-utils libopencv-dev\n",
    "\n",
    "%cd /content\n",
    "!git clone --recursive https://github.com/Tencent/ncnn\n",
    "%cd /content/ncnn\n",
    "!mkdir -p build\n",
    "%cd build\n",
    "!cmake -DCMAKE_BUILD_TYPE=Release -DNCNN_OPENMP=OFF ..\n",
    "!make -j$(nproc)\n",
    "!make install\n",
    "\n",
    "%cd /content\n",
    "!git clone https://github.com/fengwang/Stable-Diffusion-NCNN\n",
    "%cd /content/Stable-Diffusion-NCNN\n",
    "!g++ -o test test.cpp -funsafe-math-optimizations -Ofast -flto=auto  -funroll-all-loops -pipe -march=native -std=c++20 -Wall -Wextra -I/content/ncnn/build/install/include -L/content/ncnn/build/install/lib -lncnn -lstdc++ -pthread -Wl,--gc-sections -flto -fopt-info-vec-optimized\n",
    "\n",
    "!aria2c --console-log-level=error -c -x 16 -s 16 -k 1M https://huggingface.co/camenduru/Stable-Diffusion-NCNN/resolve/main/AutoencoderKL-fp16.bin -d /content/Stable-Diffusion-NCNN/assets -o AutoencoderKL-fp16.bin\n",
    "!aria2c --console-log-level=error -c -x 16 -s 16 -k 1M https://huggingface.co/camenduru/Stable-Diffusion-NCNN/raw/main/AutoencoderKL-fp16.param -d /content/Stable-Diffusion-NCNN/assets -o AutoencoderKL-fp16.param\n",
    "!aria2c --console-log-level=error -c -x 16 -s 16 -k 1M https://huggingface.co/camenduru/Stable-Diffusion-NCNN/resolve/main/FrozenCLIPEmbedder-fp16.bin -d /content/Stable-Diffusion-NCNN/assets -o FrozenCLIPEmbedder-fp16.bin\n",
    "!aria2c --console-log-level=error -c -x 16 -s 16 -k 1M https://huggingface.co/camenduru/Stable-Diffusion-NCNN/raw/main/FrozenCLIPEmbedder-fp16.param -d /content/Stable-Diffusion-NCNN/assets -o FrozenCLIPEmbedder-fp16.param\n",
    "!aria2c --console-log-level=error -c -x 16 -s 16 -k 1M https://huggingface.co/camenduru/Stable-Diffusion-NCNN/resolve/main/RealESRGAN_x4plus_anime_6B.fp32-sim-sim-opt.bin -d /content/Stable-Diffusion-NCNN/assets -o RealESRGAN_x4plus_anime_6B.fp32-sim-sim-opt.bin\n",
    "!aria2c --console-log-level=error -c -x 16 -s 16 -k 1M https://huggingface.co/camenduru/Stable-Diffusion-NCNN/raw/main/RealESRGAN_x4plus_anime_6B.fp32-sim-sim-opt.param -d /content/Stable-Diffusion-NCNN/assets -o RealESRGAN_x4plus_anime_6B.fp32-sim-sim-opt.param\n",
    "!aria2c --console-log-level=error -c -x 16 -s 16 -k 1M https://huggingface.co/camenduru/Stable-Diffusion-NCNN/resolve/main/UNetModel-fp16.bin -d /content/Stable-Diffusion-NCNN/assets -o UNetModel-fp16.bin\n",
    "!aria2c --console-log-level=error -c -x 16 -s 16 -k 1M https://huggingface.co/camenduru/Stable-Diffusion-NCNN/raw/main/UNetModel-fp16.param -d /content/Stable-Diffusion-NCNN/assets -o UNetModel-fp16.param\n",
    "!aria2c --console-log-level=error -c -x 16 -s 16 -k 1M https://huggingface.co/camenduru/Stable-Diffusion-NCNN/resolve/main/log_sigmas.bin -d /content/Stable-Diffusion-NCNN/assets -o log_sigmas.bin\n",
    "!aria2c --console-log-level=error -c -x 16 -s 16 -k 1M https://huggingface.co/camenduru/Stable-Diffusion-NCNN/raw/main/vocab.txt -d /content/Stable-Diffusion-NCNN/assets -o vocab.txt\n",
    "!./test"
   ]
  }
 ],
 "metadata": {
  "language_info": {
   "name": "python"
  },
  "orig_nbformat": 4
 },
 "nbformat": 4,
 "nbformat_minor": 2
}
